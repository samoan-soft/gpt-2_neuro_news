{
 "cells": [
  {
   "cell_type": "code",
   "execution_count": 1,
   "id": "3OvsyaMoC6o3",
   "metadata": {
    "id": "3OvsyaMoC6o3"
   },
   "outputs": [],
   "source": [
    "#!pip install transformers"
   ]
  },
  {
   "cell_type": "code",
   "execution_count": 1,
   "id": "f821066b",
   "metadata": {
    "id": "f821066b"
   },
   "outputs": [],
   "source": [
    "import torch\n",
    "from transformers import GPT2Tokenizer, GPT2LMHeadModel\n",
    "from sklearn.model_selection import train_test_split\n",
    "from tqdm import tqdm\n",
    "import numpy as np"
   ]
  },
  {
   "cell_type": "code",
   "execution_count": 2,
   "id": "2e206a88",
   "metadata": {
    "id": "2e206a88"
   },
   "outputs": [],
   "source": [
    "def load_file():\n",
    "    text = []\n",
    "    with open('./data.txt', mode='r', encoding='utf-8') as file:\n",
    "        for line in file:\n",
    "            text.append('<BOS>'+line.strip()+'<EOS>')\n",
    "    return text"
   ]
  },
  {
   "cell_type": "code",
   "execution_count": 3,
   "id": "a487474f",
   "metadata": {
    "colab": {
     "base_uri": "https://localhost:8080/"
    },
    "id": "a487474f",
    "outputId": "cf126d52-a517-4b43-ce90-e156373423cc"
   },
   "outputs": [
    {
     "name": "stdout",
     "output_type": "stream",
     "text": [
      "['<BOS>DPR to use every chance to achieve peace if it exists, Donetsk leader says. The situation at the Donbass engagement line flared up on February 17.<EOS>', '<BOS>Ukraine’s Foreign Ministry advises its nationals to leave Russia immediately. Tensions escalated along the line of contact in eastern Ukraine on the morning of February 17.<EOS>'] 22756\n",
      "19342 3414\n"
     ]
    }
   ],
   "source": [
    "texts = load_file()\n",
    "print(texts[-2::], len(texts))\n",
    "\n",
    "train_texts, valid_texts = train_test_split(texts, test_size=0.15, random_state=13)\n",
    "print(len(train_texts), len(valid_texts))\n",
    "del texts"
   ]
  },
  {
   "cell_type": "code",
   "execution_count": 4,
   "id": "e355c517",
   "metadata": {
    "colab": {
     "base_uri": "https://localhost:8080/"
    },
    "id": "e355c517",
    "outputId": "8f7a3239-ea39-43dc-db69-17793e3e26ec"
   },
   "outputs": [
    {
     "name": "stdout",
     "output_type": "stream",
     "text": [
      "<|endoftext|>\n",
      "<|endoftext|>\n",
      "19342 3414\n",
      "512 512\n"
     ]
    }
   ],
   "source": [
    "tokenizer = GPT2Tokenizer.from_pretrained('gpt2')\n",
    "print(tokenizer.eos_token)\n",
    "print(tokenizer.bos_token)\n",
    "tokenizer.add_special_tokens({'bos_token': '\<BOS\>', 'eos_token': '\<EOS\>', 'pad_token': '\<PAD\>'})\n",
    "train_encodings = tokenizer(list(train_texts), truncation=True, add_special_tokens=True, max_length=512, padding='max_length') #return_tensors=\"pt\"\n",
    "valid_encodings = tokenizer(list(valid_texts), truncation=True, add_special_tokens=True, max_length=512, padding='max_length') #return_tensors=\"pt\"\n",
    "print(len(train_encodings['input_ids']), len(valid_encodings['attention_mask']))\n",
    "print(len(train_encodings['input_ids'][-1]), len(valid_encodings['input_ids'][-1]))\n",
    "del train_texts, valid_texts"
   ]
  },
  {
   "cell_type": "code",
   "execution_count": 5,
   "id": "661b7fdf",
   "metadata": {
    "id": "661b7fdf"
   },
   "outputs": [],
   "source": [
    "class PropagandaDataset(torch.utils.data.Dataset):\n",
    "    def __init__(self, encodings):\n",
    "        self.encodings = encodings\n",
    "    \n",
    "    def __getitem__(self, idx):\n",
    "        item = {key: torch.tensor(val[idx]) for key, val in self.encodings.items()}\n",
    "        return item\n",
    "\n",
    "    def __len__(self):\n",
    "        return len(self.encodings['input_ids'])\n",
    "\n",
    "device = torch.device('cuda' if torch.cuda.is_available()  else 'cpu')\n",
    "#device = 'cpu' \n",
    "train_loader = torch.utils.data.DataLoader(PropagandaDataset(train_encodings), batch_size=9, shuffle=True, drop_last=True) # 3223 batches\n",
    "valid_loader = torch.utils.data.DataLoader(PropagandaDataset(valid_encodings), batch_size=6, shuffle=True) # 569 batches"
   ]
  },
  {
   "cell_type": "code",
   "execution_count": 7,
   "id": "eb2e473e-edc1-4eb4-bfc7-8abe07b3811a",
   "metadata": {},
   "outputs": [
    {
     "data": {
      "application/vnd.jupyter.widget-view+json": {
       "model_id": "ff26d7b65353495c84d5245a18a67da2",
       "version_major": 2,
       "version_minor": 0
      },
      "text/plain": [
       "Downloading:   0%|          | 0.00/523M [00:00<?, ?B/s]"
      ]
     },
     "metadata": {},
     "output_type": "display_data"
    },
    {
     "data": {
      "text/plain": [
       "Embedding(50260, 768)"
      ]
     },
     "execution_count": 7,
     "metadata": {},
     "output_type": "execute_result"
    }
   ],
   "source": [
    "model = GPT2LMHeadModel.from_pretrained('gpt2').to(device)\n",
    "model.resize_token_embeddings(len(tokenizer))"
   ]
  },
  {
   "cell_type": "code",
   "execution_count": 9,
   "id": "6aa81b21-9a3f-4d38-b446-a0a5a38fe54d",
   "metadata": {},
   "outputs": [
    {
     "name": "stderr",
     "output_type": "stream",
     "text": [
      "100%|██████████| 569/569 [01:21<00:00,  6.98it/s]"
     ]
    },
    {
     "name": "stdout",
     "output_type": "stream",
     "text": [
      "PPL before training 99682.735190\n"
     ]
    },
    {
     "name": "stderr",
     "output_type": "stream",
     "text": [
      "\n"
     ]
    }
   ],
   "source": [
    "nlls = 0.0\n",
    "model.eval()\n",
    "with torch.no_grad():\n",
    "    for batch in tqdm(valid_loader):\n",
    "        outputs = model(input_ids=batch['input_ids'].to(device), \n",
    "                      attention_mask=batch['attention_mask'].to(device),\n",
    "                      labels=batch['input_ids'].to(device))\n",
    "        nlls += outputs.loss.tolist()*len(batch['input_ids'])\n",
    "nlls /= len(valid_loader.sampler)\n",
    "nlls = np.exp(nlls)\n",
    "print(f\"PPL before training {nlls:.6f}\")"
   ]
  },
  {
   "cell_type": "code",
   "execution_count": 6,
   "id": "ee5fcf3f",
   "metadata": {
    "id": "ee5fcf3f"
   },
   "outputs": [
    {
     "data": {
      "application/vnd.jupyter.widget-view+json": {
       "model_id": "01febe5348a64acf92855a865c02af64",
       "version_major": 2,
       "version_minor": 0
      },
      "text/plain": [
       "Downloading:   0%|          | 0.00/523M [00:00<?, ?B/s]"
      ]
     },
     "metadata": {},
     "output_type": "display_data"
    }
   ],
   "source": [
    "model.train()\n",
    "optim = torch.optim.Adam(model.parameters(), lr=5e-5)"
   ]
  },
  {
   "cell_type": "code",
   "execution_count": 7,
   "id": "fc2290a8",
   "metadata": {
    "colab": {
     "base_uri": "https://localhost:8080/"
    },
    "id": "fc2290a8",
    "outputId": "b4b432f1-f368-48f7-d2f2-e2c62a2499d0"
   },
   "outputs": [
    {
     "name": "stdout",
     "output_type": "stream",
     "text": [
      "epoch: 1\n"
     ]
    },
    {
     "name": "stderr",
     "output_type": "stream",
     "text": [
      "2149it [22:40,  1.58it/s]\n"
     ]
    },
    {
     "name": "stdout",
     "output_type": "stream",
     "text": [
      "Train Loss 0.394179\n",
      "Validation\n"
     ]
    },
    {
     "name": "stderr",
     "output_type": "stream",
     "text": [
      "100%|██████████| 569/569 [01:21<00:00,  7.01it/s]\n"
     ]
    },
    {
     "name": "stdout",
     "output_type": "stream",
     "text": [
      "Validation Loss 0.278581\n",
      "epoch: 2\n"
     ]
    },
    {
     "name": "stderr",
     "output_type": "stream",
     "text": [
      "2149it [22:35,  1.59it/s]\n"
     ]
    },
    {
     "name": "stdout",
     "output_type": "stream",
     "text": [
      "Train Loss 0.271655\n",
      "Validation\n"
     ]
    },
    {
     "name": "stderr",
     "output_type": "stream",
     "text": [
      "100%|██████████| 569/569 [01:21<00:00,  7.01it/s]\n"
     ]
    },
    {
     "name": "stdout",
     "output_type": "stream",
     "text": [
      "Validation Loss 0.247987\n",
      "epoch: 3\n"
     ]
    },
    {
     "name": "stderr",
     "output_type": "stream",
     "text": [
      "2149it [22:34,  1.59it/s]\n"
     ]
    },
    {
     "name": "stdout",
     "output_type": "stream",
     "text": [
      "Train Loss 0.233179\n",
      "Validation\n"
     ]
    },
    {
     "name": "stderr",
     "output_type": "stream",
     "text": [
      "100%|██████████| 569/569 [01:21<00:00,  7.01it/s]\n"
     ]
    },
    {
     "name": "stdout",
     "output_type": "stream",
     "text": [
      "Validation Loss 0.222062\n",
      "epoch: 4\n"
     ]
    },
    {
     "name": "stderr",
     "output_type": "stream",
     "text": [
      "2149it [22:33,  1.59it/s]\n"
     ]
    },
    {
     "name": "stdout",
     "output_type": "stream",
     "text": [
      "Train Loss 0.200597\n",
      "Validation\n"
     ]
    },
    {
     "name": "stderr",
     "output_type": "stream",
     "text": [
      "100%|██████████| 569/569 [01:21<00:00,  7.01it/s]\n"
     ]
    },
    {
     "name": "stdout",
     "output_type": "stream",
     "text": [
      "Validation Loss 0.205396\n",
      "epoch: 5\n"
     ]
    },
    {
     "name": "stderr",
     "output_type": "stream",
     "text": [
      "2149it [22:33,  1.59it/s]\n"
     ]
    },
    {
     "name": "stdout",
     "output_type": "stream",
     "text": [
      "Train Loss 0.17564\n",
      "Validation\n"
     ]
    },
    {
     "name": "stderr",
     "output_type": "stream",
     "text": [
      "100%|██████████| 569/569 [01:21<00:00,  7.02it/s]\n"
     ]
    },
    {
     "name": "stdout",
     "output_type": "stream",
     "text": [
      "Validation Loss 0.196772\n",
      "epoch: 6\n"
     ]
    },
    {
     "name": "stderr",
     "output_type": "stream",
     "text": [
      "2149it [22:31,  1.59it/s]\n"
     ]
    },
    {
     "name": "stdout",
     "output_type": "stream",
     "text": [
      "Train Loss 0.156826\n",
      "Validation\n"
     ]
    },
    {
     "name": "stderr",
     "output_type": "stream",
     "text": [
      "100%|██████████| 569/569 [01:21<00:00,  7.01it/s]"
     ]
    },
    {
     "name": "stdout",
     "output_type": "stream",
     "text": [
      "Validation Loss 0.188786\n"
     ]
    },
    {
     "name": "stderr",
     "output_type": "stream",
     "text": [
      "\n"
     ]
    }
   ],
   "source": [
    "train_loss_array = []\n",
    "valid_loss_array = []\n",
    "\n",
    "for epoch in range(6):\n",
    "    print(f\"epoch: {epoch+1}\")\n",
    "    train_loss = 0.0\n",
    "    model.train()\n",
    "    for batch_id, batch in tqdm(enumerate(train_loader)):\n",
    "        optim.zero_grad()\n",
    "        \n",
    "        input_ids = batch['input_ids'].to(device)\n",
    "        attention_mask = batch['attention_mask'].to(device)\n",
    "\n",
    "        outputs = model(input_ids=input_ids,\n",
    "                        attention_mask=attention_mask,\n",
    "                        labels=input_ids)\n",
    "        loss = outputs.loss\n",
    "        train_loss += outputs.loss.tolist()*len(input_ids)\n",
    "        \n",
    "        loss.backward()\n",
    "        optim.step()\n",
    "        \n",
    "#        if batch_id % 100 == 0:\n",
    "#            print(f\" Batch {batch_id}; Train Loss {loss.tolist():.6f}\")\n",
    "    print(f\"Train Loss {round(train_loss/len(train_loader.sampler), 6)}\")\n",
    "    train_loss_array.append(round(train_loss/len(train_loader.sampler), 6))\n",
    "    model.eval()\n",
    "    with torch.set_grad_enabled(False):\n",
    "        print(\"Validation\")\n",
    "        valid_loss = 0.0\n",
    "        for batch in tqdm(valid_loader):\n",
    "            outputs = model(input_ids=batch['input_ids'].to(device), \n",
    "                          attention_mask=batch['attention_mask'].to(device),\n",
    "                          labels=batch['input_ids'].to(device))\n",
    "            valid_loss += outputs.loss.tolist()*len(batch['input_ids'])\n",
    "        print(f\"Validation Loss {round(valid_loss/len(valid_loader.sampler), 6)}\")\n",
    "        valid_loss_array.append(round(valid_loss/len(valid_loader.sampler), 6))"
   ]
  },
  {
   "cell_type": "code",
   "execution_count": 10,
   "id": "eca61913-d621-4dc7-9c46-d4bc40a9cf2a",
   "metadata": {},
   "outputs": [
    {
     "data": {
      "image/png": "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\n",
      "text/plain": [
       "<Figure size 720x432 with 1 Axes>"
      ]
     },
     "metadata": {
      "needs_background": "light"
     },
     "output_type": "display_data"
    }
   ],
   "source": [
    "import matplotlib.pyplot as plt\n",
    "\n",
    "fig, ax = plt.subplots(figsize=(10, 6))\n",
    "fig.suptitle('GPT-2', fontsize=16)\n",
    "ax.plot(list(range(1,len(train_loss_array)+1)), train_loss_array)\n",
    "ax.plot(list(range(1,len(valid_loss_array)+1)), valid_loss_array)\n",
    "ax.grid()\n",
    "ax.legend(['train loss', 'validation loss'])\n",
    "ax.axis([1, 6, 0.15, 0.4])\n",
    "ax.set_xlabel('Epoch', fontsize=15)\n",
    "ax.set_ylabel('Loss', fontsize=15)\n",
    "\n",
    "plt.show()\n",
    "fig.savefig(\"gpt2_2.jpg\", dpi=200, bbox_inches='tight')"
   ]
  },
  {
   "cell_type": "code",
   "execution_count": 11,
   "id": "Qjv-cpY9fGws",
   "metadata": {
    "id": "Qjv-cpY9fGws"
   },
   "outputs": [],
   "source": [
    "model.save_pretrained(\"./model\")"
   ]
  },
  {
   "cell_type": "markdown",
   "id": "e383cb6f-05bd-4f98-9b2c-c1b5e80276b6",
   "metadata": {},
   "source": [
    "# ------------------------------------------------------------"
   ]
  },
  {
   "cell_type": "code",
   "execution_count": 6,
   "id": "fc6c5a8f-379e-4ef3-872f-c95f52646fbb",
   "metadata": {},
   "outputs": [],
   "source": [
    "model = GPT2LMHeadModel.from_pretrained('./pytorch_model.bin',config='./config.json', local_files_only=True).to(device)"
   ]
  },
  {
   "cell_type": "code",
   "execution_count": 7,
   "id": "ec6ce5fe-0e5f-4e59-9e1a-0b0fd53dd91e",
   "metadata": {},
   "outputs": [
    {
     "name": "stderr",
     "output_type": "stream",
     "text": [
      "100%|██████████| 569/569 [01:21<00:00,  6.98it/s]"
     ]
    },
    {
     "name": "stdout",
     "output_type": "stream",
     "text": [
      "PPL after training 1.207783\n"
     ]
    },
    {
     "name": "stderr",
     "output_type": "stream",
     "text": [
      "\n"
     ]
    }
   ],
   "source": [
    "nlls = 0.0\n",
    "model.eval()\n",
    "with torch.no_grad():\n",
    "    for batch in tqdm(valid_loader):\n",
    "        outputs = model(input_ids=batch['input_ids'].to(device), \n",
    "                      attention_mask=batch['attention_mask'].to(device),\n",
    "                      labels=batch['input_ids'].to(device))\n",
    "        nlls += outputs.loss.tolist()*len(batch['input_ids'])\n",
    "nlls /= len(valid_loader.sampler)\n",
    "nlls = np.exp(nlls)\n",
    "print(f\"PPL after training {nlls:.6f}\")"
   ]
  },
  {
   "cell_type": "code",
   "execution_count": null,
   "id": "bfa6c5bc-9b1c-48ca-a6e8-43109587c0df",
   "metadata": {},
   "outputs": [],
   "source": []
  }
 ],
 "metadata": {
  "accelerator": "GPU",
  "colab": {
   "provenance": []
  },
  "gpuClass": "standard",
  "kernelspec": {
   "display_name": "Python 3 (ipykernel)",
   "language": "python",
   "name": "python3"
  },
  "language_info": {
   "codemirror_mode": {
    "name": "ipython",
    "version": 3
   },
   "file_extension": ".py",
   "mimetype": "text/x-python",
   "name": "python",
   "nbconvert_exporter": "python",
   "pygments_lexer": "ipython3",
   "version": "3.9.13"
  }
 },
 "nbformat": 4,
 "nbformat_minor": 5
}
